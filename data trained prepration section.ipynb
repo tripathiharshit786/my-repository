{
 "cells": [
  {
   "cell_type": "code",
   "execution_count": 1,
   "id": "1292d434",
   "metadata": {},
   "outputs": [
    {
     "name": "stdout",
     "output_type": "stream",
     "text": [
      "hello world\n"
     ]
    }
   ],
   "source": [
    "print('hello world') #print() is a function in python"
   ]
  },
  {
   "cell_type": "code",
   "execution_count": 2,
   "id": "10a77fa3",
   "metadata": {},
   "outputs": [
    {
     "name": "stdout",
     "output_type": "stream",
     "text": [
      "pinky's computer\n"
     ]
    }
   ],
   "source": [
    "# pinky's computer\n",
    "print(\"pinky's computer\")"
   ]
  },
  {
   "cell_type": "code",
   "execution_count": 3,
   "id": "9532ccaa",
   "metadata": {},
   "outputs": [
    {
     "name": "stdout",
     "output_type": "stream",
     "text": [
      "\n"
     ]
    }
   ],
   "source": [
    "print()"
   ]
  },
  {
   "cell_type": "code",
   "execution_count": 4,
   "id": "781b6591",
   "metadata": {},
   "outputs": [
    {
     "ename": "IndentationError",
     "evalue": "unexpected indent (1114759623.py, line 4)",
     "output_type": "error",
     "traceback": [
      "\u001b[1;36m  Input \u001b[1;32mIn [4]\u001b[1;36m\u001b[0m\n\u001b[1;33m    x = 10\u001b[0m\n\u001b[1;37m    ^\u001b[0m\n\u001b[1;31mIndentationError\u001b[0m\u001b[1;31m:\u001b[0m unexpected indent\n"
     ]
    }
   ],
   "source": [
    "# comment--> are never executed\n",
    "#introducing variables in python\n",
    "\n",
    " x =10 \n",
    " y =20\n",
    " myname ='harshit tripathi' #string\n",
    "    \n",
    "print(type(x))\n",
    "\n",
    "    #x is a variable and 10 is a value and we are assigning 10 to x using ="
   ]
  },
  {
   "cell_type": "code",
   "execution_count": 5,
   "id": "fec1065b",
   "metadata": {},
   "outputs": [
    {
     "ename": "NameError",
     "evalue": "name 'myname' is not defined",
     "output_type": "error",
     "traceback": [
      "\u001b[1;31m---------------------------------------------------------------------------\u001b[0m",
      "\u001b[1;31mNameError\u001b[0m                                 Traceback (most recent call last)",
      "Input \u001b[1;32mIn [5]\u001b[0m, in \u001b[0;36m<cell line: 1>\u001b[1;34m()\u001b[0m\n\u001b[1;32m----> 1\u001b[0m \u001b[38;5;28mprint\u001b[39m (\u001b[38;5;28mtype\u001b[39m(\u001b[43mmyname\u001b[49m))\n",
      "\u001b[1;31mNameError\u001b[0m: name 'myname' is not defined"
     ]
    }
   ],
   "source": [
    "print (type(myname))\n"
   ]
  },
  {
   "cell_type": "code",
   "execution_count": 6,
   "id": "0e9fde55",
   "metadata": {},
   "outputs": [
    {
     "ename": "NameError",
     "evalue": "name 'x' is not defined",
     "output_type": "error",
     "traceback": [
      "\u001b[1;31m---------------------------------------------------------------------------\u001b[0m",
      "\u001b[1;31mNameError\u001b[0m                                 Traceback (most recent call last)",
      "Input \u001b[1;32mIn [6]\u001b[0m, in \u001b[0;36m<cell line: 2>\u001b[1;34m()\u001b[0m\n\u001b[0;32m      1\u001b[0m \u001b[38;5;66;03m#print the value of x \u001b[39;00m\n\u001b[1;32m----> 2\u001b[0m \u001b[38;5;28mprint\u001b[39m(\u001b[43mx\u001b[49m)\n",
      "\u001b[1;31mNameError\u001b[0m: name 'x' is not defined"
     ]
    }
   ],
   "source": [
    "#print the value of x \n",
    "print(x)"
   ]
  },
  {
   "cell_type": "code",
   "execution_count": 9,
   "id": "b8fbe725",
   "metadata": {},
   "outputs": [
    {
     "ename": "NameError",
     "evalue": "name 'myName' is not defined",
     "output_type": "error",
     "traceback": [
      "\u001b[1;31m---------------------------------------------------------------------------\u001b[0m",
      "\u001b[1;31mNameError\u001b[0m                                 Traceback (most recent call last)",
      "Input \u001b[1;32mIn [9]\u001b[0m, in \u001b[0;36m<cell line: 2>\u001b[1;34m()\u001b[0m\n\u001b[0;32m      1\u001b[0m z\u001b[38;5;241m=\u001b[39m\u001b[38;5;241m30\u001b[39m\n\u001b[1;32m----> 2\u001b[0m \u001b[38;5;28mprint\u001b[39m(\u001b[43mmyName\u001b[49m)\n",
      "\u001b[1;31mNameError\u001b[0m: name 'myName' is not defined"
     ]
    }
   ],
   "source": [
    "z=30\n",
    "print(myName)"
   ]
  },
  {
   "cell_type": "code",
   "execution_count": 10,
   "id": "d14c9ee0",
   "metadata": {},
   "outputs": [
    {
     "name": "stdout",
     "output_type": "stream",
     "text": [
      "30\n"
     ]
    }
   ],
   "source": [
    "z=30\n",
    "print(z)\n"
   ]
  },
  {
   "cell_type": "code",
   "execution_count": 12,
   "id": "6db6e915",
   "metadata": {},
   "outputs": [
    {
     "name": "stdout",
     "output_type": "stream",
     "text": [
      "10 20 harshit tripathi\n"
     ]
    }
   ],
   "source": [
    "x=10\n",
    "y=20\n",
    "myName='harshit tripathi'\n",
    "print(x,y,myName)"
   ]
  },
  {
   "cell_type": "code",
   "execution_count": 13,
   "id": "954667c8",
   "metadata": {},
   "outputs": [],
   "source": [
    "# my name is harshit tripathi\n",
    "myName= 'harshit tripathi'\n"
   ]
  },
  {
   "cell_type": "code",
   "execution_count": 15,
   "id": "7017661a",
   "metadata": {},
   "outputs": [
    {
     "name": "stdout",
     "output_type": "stream",
     "text": [
      "my name is harshit tripathi\n"
     ]
    }
   ],
   "source": [
    "print('my name is' , myName)"
   ]
  },
  {
   "cell_type": "code",
   "execution_count": null,
   "id": "1a4a419f",
   "metadata": {},
   "outputs": [],
   "source": []
  }
 ],
 "metadata": {
  "kernelspec": {
   "display_name": "Python 3 (ipykernel)",
   "language": "python",
   "name": "python3"
  },
  "language_info": {
   "codemirror_mode": {
    "name": "ipython",
    "version": 3
   },
   "file_extension": ".py",
   "mimetype": "text/x-python",
   "name": "python",
   "nbconvert_exporter": "python",
   "pygments_lexer": "ipython3",
   "version": "3.9.12"
  }
 },
 "nbformat": 4,
 "nbformat_minor": 5
}
